{
  "cells": [
    {
      "cell_type": "code",
      "execution_count": null,
      "metadata": {
        "colab": {
          "base_uri": "https://localhost:8080/"
        },
        "id": "ul6pch1_7AEA",
        "outputId": "69c52a39-e086-4bfe-d517-18e4ced95a16"
      },
      "outputs": [
        {
          "ename": "",
          "evalue": "",
          "output_type": "error",
          "traceback": [
            "\u001b[1;31mRunning cells with 'Python 3.11.0 64-bit' requires ipykernel package.\n",
            "\u001b[1;31mRun the following command to install 'ipykernel' into the Python environment. \n",
            "\u001b[1;31mCommand: '\"c:/Users/Lenovo S540/AppData/Local/Programs/Python/Python311/python.exe\" -m pip install ipykernel -U --user --force-reinstall'"
          ]
        }
      ],
      "source": [
        "# Q1: You are working in a bank and you have been given two lists of the employees \n",
        "# who worked in 2021. Employee’s name in list 1 are Ramesh, Suresh, Mahesh, Ali, Jacob and Saritha.\n",
        "# List 2 contains the names of Ali, Mukesh, Mahesh, Jacob, Sai, Sarita. \n",
        "# Please write a program which helps to identify people who are common in both lists. Please do not use any in-built function.\n",
        "\n",
        "list1 = [\"Ramesh\", \"Suresh\", \"Mahesh\", \"Ali\", \"Jacob\", \"Saritha\"]\n",
        "list2 = [\"Ali\", \"Mukesh\", \"Mahesh\", \"Jacob\", \"Sai\", \"Sarita\"]\n",
        "\n",
        "def common_people(list1, list2):\n",
        "  result = list()\n",
        "  for i in list1:\n",
        "    if i in list2:\n",
        "      result.append(i)\n",
        "  return result\n",
        "print(\"Common people in both lists are:\", common_people(list1, list2))"
      ]
    },
    {
      "cell_type": "code",
      "execution_count": 2,
      "metadata": {
        "colab": {
          "base_uri": "https://localhost:8080/"
        },
        "id": "yPu1kphx7fCD",
        "outputId": "c93d7e64-baa8-46cb-d035-ff7bfa984dca"
      },
      "outputs": [
        {
          "data": {
            "text/plain": [
              "['Ramesh', 'Suresh', 'Mohit']"
            ]
          },
          "execution_count": 2,
          "metadata": {},
          "output_type": "execute_result"
        }
      ],
      "source": [
        "# Q2: While entering data, someone entered a few names as a common string “Ramesh Suresh Mohit”. \n",
        "# Please write a program which separates all the names and convert them into a list. \n",
        "# Once converted in a list, please write a program which adds their age.\n",
        "\n",
        "# Ramesh :  25\n",
        "# Suresh : 22\n",
        "# Mohit : 26\n",
        "\n",
        "d = \"Ramesh Suresh Mohit\"\n",
        "e = d.split()\n",
        "e"
      ]
    },
    {
      "cell_type": "code",
      "execution_count": 4,
      "metadata": {
        "colab": {
          "base_uri": "https://localhost:8080/"
        },
        "id": "LIqNKiMd7jxM",
        "outputId": "37137102-60d2-477d-8c90-764f9e7b990c"
      },
      "outputs": [
        {
          "data": {
            "text/plain": [
              "list"
            ]
          },
          "execution_count": 4,
          "metadata": {},
          "output_type": "execute_result"
        }
      ],
      "source": [
        "type(e)"
      ]
    },
    {
      "cell_type": "code",
      "execution_count": 3,
      "metadata": {
        "colab": {
          "base_uri": "https://localhost:8080/"
        },
        "id": "3ZtAS_qP7pCt",
        "outputId": "a5e94ecc-273c-4963-b895-094faf5c437c"
      },
      "outputs": [
        {
          "data": {
            "text/plain": [
              "[25, 22, 26]"
            ]
          },
          "execution_count": 3,
          "metadata": {},
          "output_type": "execute_result"
        }
      ],
      "source": [
        "g = [25, 22, 26]\n",
        "g"
      ]
    },
    {
      "cell_type": "code",
      "execution_count": 4,
      "metadata": {
        "colab": {
          "base_uri": "https://localhost:8080/"
        },
        "id": "3ZlW1iGN7pOU",
        "outputId": "48ee3374-2b6f-4321-a236-7777f194a9ed"
      },
      "outputs": [
        {
          "data": {
            "text/plain": [
              "{'Ramesh': 25, 'Suresh': 22, 'Mohit': 26}"
            ]
          },
          "execution_count": 4,
          "metadata": {},
          "output_type": "execute_result"
        }
      ],
      "source": [
        "dict(zip(e , g))"
      ]
    },
    {
      "cell_type": "code",
      "execution_count": 5,
      "metadata": {
        "colab": {
          "base_uri": "https://localhost:8080/"
        },
        "id": "z-cpmWRf70km",
        "outputId": "41f673f0-424c-4bb3-ac85-abd8d4eff080"
      },
      "outputs": [
        {
          "data": {
            "text/plain": [
              "{'Sam': (25, 23, 29),\n",
              " 'Jacy': (26, 21, 27),\n",
              " 'Tom': (29, 19, 28),\n",
              " 'Steve': (28, 25, 25)}"
            ]
          },
          "execution_count": 5,
          "metadata": {},
          "output_type": "execute_result"
        }
      ],
      "source": [
        "# Q3: A few students from a university have taken three exams\n",
        "# Name = Sam, Jacy, Tom, Steve\n",
        "# Python = 25, 26, 29, 28\n",
        "# Statistics = 23, 21, 19, 25\n",
        "# SQL = 29, 27, 28, 25\n",
        "# Please write a program which calculates mean values (no in-built function for mean) of all three tests and print the highest mean value. Addition and other functions are allowed. \n",
        "# Please also report who scored the highest mark in python using programming construct. \n",
        "\n",
        "Name = [\"Sam\", \"Jacy\", \"Tom\", \"Steve\"]\n",
        "Python = [25, 26, 29, 28]\n",
        "Statistics = [23, 21, 19, 25]\n",
        "SQL = [29, 27, 28, 25]\n",
        "dict1 = dict(zip(Name, zip(Python, Statistics, SQL)))\n",
        "dict1"
      ]
    },
    {
      "cell_type": "code",
      "execution_count": 6,
      "metadata": {
        "colab": {
          "base_uri": "https://localhost:8080/"
        },
        "id": "z5SytsGv73zF",
        "outputId": "90a5283b-4f15-4cf2-f758-e425cc429c68"
      },
      "outputs": [
        {
          "name": "stdout",
          "output_type": "stream",
          "text": [
            "[25.67, 24.67, 25.33, 26.0]\n",
            "26.0\n",
            "Tom\n"
          ]
        }
      ],
      "source": [
        "mean = list()\n",
        "for key in dict1.keys():\n",
        "  mean.append(round(sum(dict1[key]) / len(dict1[key]),2))\n",
        "print(mean)\n",
        "print(max(mean))\n",
        "print(Name[Python.index(max(Python))])"
      ]
    },
    {
      "cell_type": "code",
      "execution_count": 8,
      "metadata": {
        "colab": {
          "base_uri": "https://localhost:8080/"
        },
        "id": "mvQTSCaT78Mi",
        "outputId": "1b9b6633-ba42-4a6d-df97-e23ea46c7e9e"
      },
      "outputs": [
        {
          "name": "stdout",
          "output_type": "stream",
          "text": [
            "1618\n"
          ]
        }
      ],
      "source": [
        "# Q4: You are working in a medical store. A patient came to your medical store and asked to buy 2 strips of paracetamol, 3 strips of azithromycin and 5 strips of Vitamin C.\n",
        "#  One strip of paracetamol costs Rs 35, one strip of azithromycin costs Rs 49 and one strip of vitamin c costs Rs. 33. Patient gave you Rs 2000. \n",
        "# Please tell us what is the total cost of each medicine, total cost of all medicine and how much money you refunded to the patient?  \n",
        "\n",
        "paracetamol = 35\n",
        "azithromycin = 49\n",
        "vitamin_c = 33\n",
        "\n",
        "bill = 2 * paracetamol + 3 * azithromycin + 5 * vitamin_c\n",
        "change = 2000 - bill\n",
        "print(change)"
      ]
    },
    {
      "cell_type": "code",
      "execution_count": 9,
      "metadata": {
        "colab": {
          "base_uri": "https://localhost:8080/"
        },
        "id": "v-isW2sk8AhZ",
        "outputId": "c6b9ddd6-77eb-4ea8-cd4a-67441e4459e0"
      },
      "outputs": [
        {
          "name": "stdout",
          "output_type": "stream",
          "text": [
            "Enter the text: Odin school data science programme\n",
            "11\n"
          ]
        }
      ],
      "source": [
        "# Q5: Accept a sentence as input and find the number of vowels in it. \n",
        "# Assume that the sentence has no punctuation marks. For example: I am learning python contains 6 vowels. \n",
        "# This function should be applicable for all other different sentences.\n",
        "\n",
        "def count_vowels(text):\n",
        "  c = 0\n",
        "  for i in text:\n",
        "    if i in (\"aeiou\"):\n",
        "      c += 1\n",
        "  return c\n",
        "\n",
        "t = input(\"Enter the text: \")\n",
        "print(count_vowels(t))"
      ]
    },
    {
      "cell_type": "code",
      "execution_count": 16,
      "metadata": {
        "colab": {
          "base_uri": "https://localhost:8080/"
        },
        "id": "JWmCOvIL8Hb5",
        "outputId": "c56dc937-853c-486c-efc8-65d528496833"
      },
      "outputs": [
        {
          "name": "stdout",
          "output_type": "stream",
          "text": [
            "enter the age:13\n",
            "Return after 5 years\n"
          ]
        }
      ],
      "source": [
        "# Q6: You have been appointed by the election commission to create a website. \n",
        "# Your first task is to work on a program which tells candidates if they are eligible for voting or not. \n",
        "# If they are eligible your output should be ‘Congrats! You are eligible’, otherwise it should tell that you have to return after X number of years. \n",
        "# Eligibility criteria for voting is 18 years.\n",
        "# For example, If someone is 18 or above your output should be ‘Congrats! You are eligible’. If someone’s age is 15 years it should print output as ‘return after 3 years’.  \n",
        "\n",
        "a = int(input(\"enter the age:\"))\n",
        "if a >= 18:\n",
        "  print(\"Congrats! You are eligible\")\n",
        "else:\n",
        "  print(\"Return after\", 18-a , \"years\")"
      ]
    },
    {
      "cell_type": "code",
      "execution_count": null,
      "metadata": {
        "id": "VDvkx6Ry8RpF"
      },
      "outputs": [
        {
          "ename": "",
          "evalue": "",
          "output_type": "error",
          "traceback": [
            "\u001b[1;31mRunning cells with 'Python 3.11.0 64-bit' requires ipykernel package.\n",
            "\u001b[1;31mRun the following command to install 'ipykernel' into the Python environment. \n",
            "\u001b[1;31mCommand: '\"c:/Users/Lenovo S540/AppData/Local/Programs/Python/Python311/python.exe\" -m pip install ipykernel -U --user --force-reinstall'"
          ]
        }
      ],
      "source": []
    }
  ],
  "metadata": {
    "colab": {
      "provenance": []
    },
    "kernelspec": {
      "display_name": "Python 3.11.0 64-bit",
      "language": "python",
      "name": "python3"
    },
    "language_info": {
      "name": "python",
      "version": "3.11.0"
    },
    "vscode": {
      "interpreter": {
        "hash": "b07622a23de2c9ddd56151ece5d195d17968d0f1e9488112acb857c16496dbaa"
      }
    }
  },
  "nbformat": 4,
  "nbformat_minor": 0
}
